{
 "cells": [
  {
   "cell_type": "markdown",
   "metadata": {},
   "source": [
    "<div style=\"background: #efffed;\n",
    "            border: 1px solid grey;\n",
    "            margin: 8px 0 8px 0;\n",
    "            text-align: center;\n",
    "            padding: 8px; \">\n",
    "    <i class=\"fa-play fa\" \n",
    "       style=\"font-size: 40px;\n",
    "              line-height: 40px;\n",
    "              margin: 8px;\n",
    "              color: #444;\">\n",
    "    </i>\n",
    "    <center>\n",
    "    Click into a code cell (the gray blocks below) to select or edit it.<br/>\n",
    "    To run a selected code cell, hit <pre style=\"background: #efffed\">Shift + Enter</pre>\n",
    "    Make sure that each code cell runs successfully before you move on to the next one.\n",
    "    </center>\n",
    "</div>"
   ]
  },
  {
   "cell_type": "markdown",
   "metadata": {},
   "source": [
    "# Simple advection-diffusion model\n",
    "\n",
    "This notebook implements a simple 2D advection-diffusion model using Landlab, with a prescribed uniform advection velocity.\n",
    "\n",
    "*(GT, inspired by a question from Shemin Ge, Oct 2020)*\n",
    "\n",
    "\n",
    "Imports:"
   ]
  },
  {
   "cell_type": "code",
   "execution_count": null,
   "metadata": {},
   "outputs": [],
   "source": [
    "import numpy as np\n",
    "from landlab import RasterModelGrid, imshow_grid\n",
    "from landlab.grid.mappers import map_link_tail_node_to_link"
   ]
  },
  {
   "cell_type": "code",
   "execution_count": null,
   "metadata": {},
   "outputs": [],
   "source": [
    "# Parameters\n",
    "nrows = 11\n",
    "ncols = 11\n",
    "dx = 1.0 # grid spacing, m\n",
    "diffusivity = 2.0e-4 # m2/s\n",
    "velocity = 0.001 # m/s\n",
    "initial_concentration = 1.0 # volume concentration of solute\n",
    "grid_node_with_starting_solute = ncols * (nrows//2) + 1 #ncols * (nrows//2) + nrows//2\n",
    "run_duration = 5000.0\n",
    "\n",
    "# Derived parameters\n",
    "dt = 0.2 * dx * dx / diffusivity\n",
    "dt_advec = 0.5 * dx / velocity\n",
    "dt = min(dt, dt_advec)\n",
    "nsteps = int(round(run_duration / dt))"
   ]
  },
  {
   "cell_type": "code",
   "execution_count": null,
   "metadata": {},
   "outputs": [],
   "source": [
    "grid = RasterModelGrid((nrows, ncols), xy_spacing=dx)\n",
    "conc = grid.add_zeros('solute_concentration', at='node')\n",
    "vel = grid.add_zeros('flow_velocity', at='link')\n",
    "flux = grid.add_zeros('solute_flux', at='link')\n",
    "conc[grid_node_with_starting_solute] = initial_concentration\n",
    "vel[grid.horizontal_links] = velocity"
   ]
  },
  {
   "cell_type": "code",
   "execution_count": null,
   "metadata": {},
   "outputs": [],
   "source": [
    "# initial concentration field\n",
    "imshow_grid(grid, conc)"
   ]
  },
  {
   "cell_type": "code",
   "execution_count": null,
   "metadata": {},
   "outputs": [],
   "source": [
    "for i in range(nsteps):\n",
    "    conc_grad = grid.calc_grad_at_link(conc)\n",
    "    diff_flux = -diffusivity * conc_grad  # Fick's Law\n",
    "    conc_at_links = map_link_tail_node_to_link(grid,\n",
    "                                               'solute_concentration')\n",
    "    advec_flux = vel * conc_at_links\n",
    "    total_flux = diff_flux + advec_flux\n",
    "    dcdt = -grid.calc_flux_div_at_node(total_flux)\n",
    "    conc[:] += dcdt * dt"
   ]
  },
  {
   "cell_type": "code",
   "execution_count": null,
   "metadata": {},
   "outputs": [],
   "source": [
    "# final concentration field\n",
    "imshow_grid(grid, conc)"
   ]
  }
 ],
 "metadata": {
  "kernelspec": {
   "display_name": "Python 3",
   "language": "python",
   "name": "python3"
  },
  "language_info": {
   "codemirror_mode": {
    "name": "ipython",
    "version": 3
   },
   "file_extension": ".py",
   "mimetype": "text/x-python",
   "name": "python",
   "nbconvert_exporter": "python",
   "pygments_lexer": "ipython3",
   "version": "3.7.7"
  }
 },
 "nbformat": 4,
 "nbformat_minor": 4
}
